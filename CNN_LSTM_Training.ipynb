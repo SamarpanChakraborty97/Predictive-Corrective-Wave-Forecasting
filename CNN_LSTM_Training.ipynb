{
 "cells": [
  {
   "cell_type": "code",
   "execution_count": 1,
   "id": "767a2112-40dc-4dd7-9230-5a75401897ca",
   "metadata": {},
   "outputs": [],
   "source": [
    "import torch\n",
    "import torch.nn as nn\n",
    "import numpy as np\n",
    "from data_prep import *\n",
    "from lstm import *\n",
    "from trainer import Optim\n",
    "import time\n",
    "import torchvision\n",
    "import torchvision.transforms as transforms\n",
    "from PIL import Image\n",
    "import pywt"
   ]
  },
  {
   "cell_type": "code",
   "execution_count": 2,
   "id": "4e9be5ad-8202-452e-bd6a-84487bb20f90",
   "metadata": {},
   "outputs": [],
   "source": [
    "params = {}\n",
    "params['optim'] = 'adam'\n",
    "params['seq_in_len'] = 10\n",
    "params['seq_out_len'] = 5\n",
    "params['lr'] = 0.001\n",
    "params['weight_decay'] = 0.0001\n",
    "params['clip'] = 5\n",
    "params['data'] = '.\\SlowVaryingAmplitudes_23_30.csv'\n",
    "params['device'] = 'cuda'\n",
    "params['L1Loss'] = True\n",
    "params['epochs'] = 500\n",
    "params['cl']= False\n",
    "params['cl_step_size']=10\n",
    "params['batch_size']=8\n",
    "params['save'] = './models/LSTM_model.pt'"
   ]
  },
  {
   "cell_type": "code",
   "execution_count": 3,
   "id": "14d9bab3-8b39-487d-9b2e-a5e49953b028",
   "metadata": {},
   "outputs": [],
   "source": [
    "device = torch.device(params['device'])\n",
    "torch.set_num_threads(3)"
   ]
  },
  {
   "cell_type": "code",
   "execution_count": null,
   "id": "337f6980-8774-4f05-a6a4-731b2a80ace9",
   "metadata": {},
   "outputs": [],
   "source": [
    "Data = DataLoaderMulti(params['data'], 0.7, params['device'], params['seq_in_len'], params['seq_out_len'])\n",
    "mean = Data.train[2]\n",
    "std = Data.train[3]"
   ]
  }
 ],
 "metadata": {
  "kernelspec": {
   "display_name": "Python (myenv)",
   "language": "python",
   "name": "myenv"
  },
  "language_info": {
   "codemirror_mode": {
    "name": "ipython",
    "version": 3
   },
   "file_extension": ".py",
   "mimetype": "text/x-python",
   "name": "python",
   "nbconvert_exporter": "python",
   "pygments_lexer": "ipython3",
   "version": "3.9.19"
  }
 },
 "nbformat": 4,
 "nbformat_minor": 5
}
