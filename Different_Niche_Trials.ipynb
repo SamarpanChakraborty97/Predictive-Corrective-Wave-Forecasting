{
 "cells": [
  {
   "cell_type": "code",
   "execution_count": 1,
   "id": "9bde99a5-4322-4e70-980c-5a23e4ecf761",
   "metadata": {},
   "outputs": [
    {
     "name": "stdout",
     "output_type": "stream",
     "text": [
      "tensor([[ 1.2137,  0.5327,  1.5255],\n",
      "        [ 1.1486, -0.1278,  1.8731],\n",
      "        [ 0.4105,  0.1860,  1.2737],\n",
      "        [ 1.9408,  0.5079,  0.7463]], grad_fn=<EmbeddingBackward0>)\n"
     ]
    }
   ],
   "source": [
    "import torch\n",
    "import torch.nn as nn\n",
    "\n",
    "# Define an embedding layer for a vocabulary of size 10 with embedding dimension 3\n",
    "embedding = nn.Embedding(10, 3)\n",
    "\n",
    "# Example input: indices of words in the vocabulary\n",
    "input_indices = torch.LongTensor([1, 2, 3, 4])\n",
    "\n",
    "# Get the corresponding embeddings\n",
    "output = embedding(input_indices)\n",
    "print(output)"
   ]
  },
  {
   "cell_type": "code",
   "execution_count": 3,
   "id": "e65f1b98-f31f-43e1-a7f5-6e39e535cf40",
   "metadata": {},
   "outputs": [
    {
     "name": "stdout",
     "output_type": "stream",
     "text": [
      "Original matrix:\n",
      "tensor([[1., 2., 3.],\n",
      "        [4., 5., 6.]])\n",
      "\n",
      "Random tensor:\n",
      "tensor([[0.5255, 0.0561, 0.3567],\n",
      "        [0.7196, 0.9255, 0.0578]])\n"
     ]
    }
   ],
   "source": [
    "import torch\n",
    "\n",
    "# Create a tensor (matrix)\n",
    "matrix = torch.Tensor([[1, 2, 3],\n",
    "                       [4, 5, 6]])\n",
    "\n",
    "# Create a new tensor with the same shape as 'matrix', filled with random numbers\n",
    "random_tensor = torch.rand_like(matrix)\n",
    "\n",
    "# Print the original matrix\n",
    "print(\"Original matrix:\")\n",
    "print(matrix)\n",
    "\n",
    "# Print the random tensor\n",
    "print(\"\\nRandom tensor:\")\n",
    "print(random_tensor)\n"
   ]
  },
  {
   "cell_type": "code",
   "execution_count": 22,
   "id": "8bee36ea-f6f8-48bf-8301-0cc6ba88c37b",
   "metadata": {},
   "outputs": [
    {
     "name": "stdout",
     "output_type": "stream",
     "text": [
      "tensor([[0, 1, 2, 0, 1],\n",
      "        [1, 2, 0, 1, 2],\n",
      "        [2, 0, 1, 2, 0]])\n",
      "tensor([[ 1.,  2.,  3.,  4.,  5.],\n",
      "        [ 6.,  7.,  8.,  9., 10.],\n",
      "        [11., 12., 13., 14., 15.]])\n",
      "Resulting tensor after scatter_ operation:\n",
      "tensor([[ 4.,  5.,  3.,  0.,  0.],\n",
      "        [ 8.,  9., 10.,  0.,  0.],\n",
      "        [15., 13., 14.,  0.,  0.]])\n"
     ]
    }
   ],
   "source": [
    "import torch\n",
    "import numpy as np\n",
    "\n",
    "# Create a tensor to scatter values into\n",
    "tensor = torch.zeros(3, 5)\n",
    "tensor2 = torch.zeros(3, 5)\n",
    "\n",
    "# Indices where we want to scatter values\n",
    "indices = torch.tensor([[0, 1, 2, 0, 1],\n",
    "                        [1, 2, 0, 1, 2],\n",
    "                        [2, 0, 1, 2, 0]])\n",
    "print(indices)\n",
    "\n",
    "# Values to scatter\n",
    "values = torch.from_numpy(np.arange(1, 16)).float().view(3, 5)\n",
    "print(values)\n",
    "\n",
    "# Perform the scatter operation\n",
    "tensor.scatter_(1, indices, values)\n",
    "\n",
    "print(\"Resulting tensor after scatter_ operation:\")\n",
    "print(tensor)\n"
   ]
  }
 ],
 "metadata": {
  "kernelspec": {
   "display_name": "Python 3 (ipykernel)",
   "language": "python",
   "name": "python3"
  },
  "language_info": {
   "codemirror_mode": {
    "name": "ipython",
    "version": 3
   },
   "file_extension": ".py",
   "mimetype": "text/x-python",
   "name": "python",
   "nbconvert_exporter": "python",
   "pygments_lexer": "ipython3",
   "version": "3.11.7"
  }
 },
 "nbformat": 4,
 "nbformat_minor": 5
}
