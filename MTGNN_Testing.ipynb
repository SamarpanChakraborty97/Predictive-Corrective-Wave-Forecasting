{
 "cells": [
  {
   "cell_type": "code",
   "execution_count": 3,
   "id": "e6984cd7-3b84-4c7b-8aa8-6314a8df31dd",
   "metadata": {},
   "outputs": [],
   "source": [
    "import torch.nn as nn\n",
    "import argparse"
   ]
  },
  {
   "cell_type": "code",
   "execution_count": 6,
   "id": "b2fec1af-2706-4de5-97f8-95f4395144af",
   "metadata": {},
   "outputs": [
    {
     "ename": "SystemExit",
     "evalue": "2",
     "output_type": "error",
     "traceback": [
      "\u001b[1;31m---------------------------------------------------------------------------\u001b[0m",
      "\u001b[1;31mSystemExit\u001b[0m                                Traceback (most recent call last)",
      "Cell \u001b[1;32mIn[5], line 45\u001b[0m\n\u001b[0;32m     41\u001b[0m parser\u001b[38;5;241m.\u001b[39madd_argument(\u001b[38;5;124m'\u001b[39m\u001b[38;5;124m--num_split\u001b[39m\u001b[38;5;124m'\u001b[39m,\u001b[38;5;28mtype\u001b[39m\u001b[38;5;241m=\u001b[39m\u001b[38;5;28mint\u001b[39m,default\u001b[38;5;241m=\u001b[39m\u001b[38;5;241m1\u001b[39m,help\u001b[38;5;241m=\u001b[39m\u001b[38;5;124m'\u001b[39m\u001b[38;5;124mnumber of splits for graphs\u001b[39m\u001b[38;5;124m'\u001b[39m)\n\u001b[0;32m     42\u001b[0m parser\u001b[38;5;241m.\u001b[39madd_argument(\u001b[38;5;124m'\u001b[39m\u001b[38;5;124m--step_size\u001b[39m\u001b[38;5;124m'\u001b[39m,\u001b[38;5;28mtype\u001b[39m\u001b[38;5;241m=\u001b[39m\u001b[38;5;28mint\u001b[39m,default\u001b[38;5;241m=\u001b[39m\u001b[38;5;241m100\u001b[39m,help\u001b[38;5;241m=\u001b[39m\u001b[38;5;124m'\u001b[39m\u001b[38;5;124mstep_size\u001b[39m\u001b[38;5;124m'\u001b[39m)\n\u001b[1;32m---> 45\u001b[0m args \u001b[38;5;241m=\u001b[39m parser\u001b[38;5;241m.\u001b[39mparse_args()\n\u001b[0;32m     46\u001b[0m device \u001b[38;5;241m=\u001b[39m torch\u001b[38;5;241m.\u001b[39mdevice(args\u001b[38;5;241m.\u001b[39mdevice)\n",
      "File \u001b[1;32m~\\AppData\\Local\\anaconda3\\Lib\\argparse.py:1872\u001b[0m, in \u001b[0;36mArgumentParser.parse_args\u001b[1;34m(self, args, namespace)\u001b[0m\n\u001b[0;32m   1870\u001b[0m \u001b[38;5;28;01mif\u001b[39;00m argv:\n\u001b[0;32m   1871\u001b[0m     msg \u001b[38;5;241m=\u001b[39m _(\u001b[38;5;124m'\u001b[39m\u001b[38;5;124munrecognized arguments: \u001b[39m\u001b[38;5;132;01m%s\u001b[39;00m\u001b[38;5;124m'\u001b[39m)\n\u001b[1;32m-> 1872\u001b[0m     \u001b[38;5;28mself\u001b[39m\u001b[38;5;241m.\u001b[39merror(msg \u001b[38;5;241m%\u001b[39m \u001b[38;5;124m'\u001b[39m\u001b[38;5;124m \u001b[39m\u001b[38;5;124m'\u001b[39m\u001b[38;5;241m.\u001b[39mjoin(argv))\n\u001b[0;32m   1873\u001b[0m \u001b[38;5;28;01mreturn\u001b[39;00m args\n",
      "File \u001b[1;32m~\\AppData\\Local\\anaconda3\\Lib\\argparse.py:2630\u001b[0m, in \u001b[0;36mArgumentParser.error\u001b[1;34m(self, message)\u001b[0m\n\u001b[0;32m   2628\u001b[0m \u001b[38;5;28mself\u001b[39m\u001b[38;5;241m.\u001b[39mprint_usage(_sys\u001b[38;5;241m.\u001b[39mstderr)\n\u001b[0;32m   2629\u001b[0m args \u001b[38;5;241m=\u001b[39m {\u001b[38;5;124m'\u001b[39m\u001b[38;5;124mprog\u001b[39m\u001b[38;5;124m'\u001b[39m: \u001b[38;5;28mself\u001b[39m\u001b[38;5;241m.\u001b[39mprog, \u001b[38;5;124m'\u001b[39m\u001b[38;5;124mmessage\u001b[39m\u001b[38;5;124m'\u001b[39m: message}\n\u001b[1;32m-> 2630\u001b[0m \u001b[38;5;28mself\u001b[39m\u001b[38;5;241m.\u001b[39mexit(\u001b[38;5;241m2\u001b[39m, _(\u001b[38;5;124m'\u001b[39m\u001b[38;5;132;01m%(prog)s\u001b[39;00m\u001b[38;5;124m: error: \u001b[39m\u001b[38;5;132;01m%(message)s\u001b[39;00m\u001b[38;5;130;01m\\n\u001b[39;00m\u001b[38;5;124m'\u001b[39m) \u001b[38;5;241m%\u001b[39m args)\n",
      "File \u001b[1;32m~\\AppData\\Local\\anaconda3\\Lib\\argparse.py:2617\u001b[0m, in \u001b[0;36mArgumentParser.exit\u001b[1;34m(self, status, message)\u001b[0m\n\u001b[0;32m   2615\u001b[0m \u001b[38;5;28;01mif\u001b[39;00m message:\n\u001b[0;32m   2616\u001b[0m     \u001b[38;5;28mself\u001b[39m\u001b[38;5;241m.\u001b[39m_print_message(message, _sys\u001b[38;5;241m.\u001b[39mstderr)\n\u001b[1;32m-> 2617\u001b[0m _sys\u001b[38;5;241m.\u001b[39mexit(status)\n",
      "\u001b[1;31mSystemExit\u001b[0m: 2"
     ]
    },
    {
     "name": "stderr",
     "output_type": "stream",
     "text": [
      "usage: ipykernel_launcher.py [-h] [--data DATA] [--log_interval N] [--save SAVE] [--optim OPTIM] [--L1Loss L1LOSS]\n",
      "                             [--normalize NORMALIZE] [--device DEVICE] [--gcn_true GCN_TRUE]\n",
      "                             [--buildA_true BUILDA_TRUE] [--gcn_depth GCN_DEPTH] [--num_nodes NUM_NODES]\n",
      "                             [--dropout DROPOUT] [--subgraph_size SUBGRAPH_SIZE] [--node_dim NODE_DIM]\n",
      "                             [--dilation_exponential DILATION_EXPONENTIAL] [--conv_channels CONV_CHANNELS]\n",
      "                             [--residual_channels RESIDUAL_CHANNELS] [--skip_channels SKIP_CHANNELS]\n",
      "                             [--end_channels END_CHANNELS] [--in_dim IN_DIM] [--seq_in_len SEQ_IN_LEN]\n",
      "                             [--seq_out_len SEQ_OUT_LEN] [--horizon HORIZON] [--layers LAYERS]\n",
      "                             [--batch_size BATCH_SIZE] [--lr LR] [--weight_decay WEIGHT_DECAY] [--clip CLIP]\n",
      "                             [--propalpha PROPALPHA] [--tanhalpha TANHALPHA] [--epochs EPOCHS] [--num_split NUM_SPLIT]\n",
      "                             [--step_size STEP_SIZE]\n",
      "ipykernel_launcher.py: error: unrecognized arguments: -f C:\\Users\\schakr18\\AppData\\Roaming\\jupyter\\runtime\\kernel-a465cdd1-1744-4a81-94b4-67e7028eedf6.json\n"
     ]
    },
    {
     "ename": "SystemExit",
     "evalue": "2",
     "output_type": "error",
     "traceback": [
      "An exception has occurred, use %tb to see the full traceback.\n",
      "\u001b[1;31mSystemExit\u001b[0m\u001b[1;31m:\u001b[0m 2\n"
     ]
    }
   ],
   "source": [
    "%tb\n",
    "\n",
    "parser = argparse.ArgumentParser(description='PyTorch Time series forecasting')\n",
    "\n",
    "parser.add_argument('--data', type=str, default='./data/solar_AL.txt',\n",
    "                    help='location of the data file')\n",
    "parser.add_argument('--log_interval', type=int, default=2000, metavar='N',\n",
    "                    help='report interval')\n",
    "parser.add_argument('--save', type=str, default='model/model.pt',\n",
    "                    help='path to save the final model')\n",
    "parser.add_argument('--optim', type=str, default='adam')\n",
    "parser.add_argument('--L1Loss', type=bool, default=True)\n",
    "parser.add_argument('--normalize', type=int, default=2)\n",
    "parser.add_argument('--device',type=str,default='cuda:1',help='')\n",
    "parser.add_argument('--gcn_true', type=bool, default=True, help='whether to add graph convolution layer')\n",
    "parser.add_argument('--buildA_true', type=bool, default=True, help='whether to construct adaptive adjacency matrix')\n",
    "parser.add_argument('--gcn_depth',type=int,default=2,help='graph convolution depth')\n",
    "parser.add_argument('--num_nodes',type=int,default=137,help='number of nodes/variables')\n",
    "parser.add_argument('--dropout',type=float,default=0.3,help='dropout rate')\n",
    "parser.add_argument('--subgraph_size',type=int,default=20,help='k')\n",
    "parser.add_argument('--node_dim',type=int,default=40,help='dim of nodes')\n",
    "parser.add_argument('--dilation_exponential',type=int,default=2,help='dilation exponential')\n",
    "parser.add_argument('--conv_channels',type=int,default=16,help='convolution channels')\n",
    "parser.add_argument('--residual_channels',type=int,default=16,help='residual channels')\n",
    "parser.add_argument('--skip_channels',type=int,default=32,help='skip channels')\n",
    "parser.add_argument('--end_channels',type=int,default=64,help='end channels')\n",
    "parser.add_argument('--in_dim',type=int,default=1,help='inputs dimension')\n",
    "parser.add_argument('--seq_in_len',type=int,default=24*7,help='input sequence length')\n",
    "parser.add_argument('--seq_out_len',type=int,default=1,help='output sequence length')\n",
    "parser.add_argument('--horizon', type=int, default=3)\n",
    "parser.add_argument('--layers',type=int,default=5,help='number of layers')\n",
    "\n",
    "parser.add_argument('--batch_size',type=int,default=32,help='batch size')\n",
    "parser.add_argument('--lr',type=float,default=0.0001,help='learning rate')\n",
    "parser.add_argument('--weight_decay',type=float,default=0.00001,help='weight decay rate')\n",
    "\n",
    "parser.add_argument('--clip',type=int,default=5,help='clip')\n",
    "\n",
    "parser.add_argument('--propalpha',type=float,default=0.05,help='prop alpha')\n",
    "parser.add_argument('--tanhalpha',type=float,default=3,help='tanh alpha')\n",
    "\n",
    "parser.add_argument('--epochs',type=int,default=1,help='')\n",
    "parser.add_argument('--num_split',type=int,default=1,help='number of splits for graphs')\n",
    "parser.add_argument('--step_size',type=int,default=100,help='step_size')\n",
    "\n",
    "\n",
    "args = parser.parse_args()\n",
    "device = torch.device(args.device)"
   ]
  },
  {
   "cell_type": "code",
   "execution_count": 7,
   "id": "7b3a7726-ed02-4f77-83e2-8bc2594af6fb",
   "metadata": {},
   "outputs": [
    {
     "ename": "SystemExit",
     "evalue": "2",
     "output_type": "error",
     "traceback": [
      "\u001b[1;31m---------------------------------------------------------------------------\u001b[0m",
      "\u001b[1;31mSystemExit\u001b[0m                                Traceback (most recent call last)",
      "Cell \u001b[1;32mIn[6], line 47\u001b[0m\n\u001b[0;32m     43\u001b[0m parser\u001b[38;5;241m.\u001b[39madd_argument(\u001b[38;5;124m'\u001b[39m\u001b[38;5;124m--num_split\u001b[39m\u001b[38;5;124m'\u001b[39m,\u001b[38;5;28mtype\u001b[39m\u001b[38;5;241m=\u001b[39m\u001b[38;5;28mint\u001b[39m,default\u001b[38;5;241m=\u001b[39m\u001b[38;5;241m1\u001b[39m,help\u001b[38;5;241m=\u001b[39m\u001b[38;5;124m'\u001b[39m\u001b[38;5;124mnumber of splits for graphs\u001b[39m\u001b[38;5;124m'\u001b[39m)\n\u001b[0;32m     44\u001b[0m parser\u001b[38;5;241m.\u001b[39madd_argument(\u001b[38;5;124m'\u001b[39m\u001b[38;5;124m--step_size\u001b[39m\u001b[38;5;124m'\u001b[39m,\u001b[38;5;28mtype\u001b[39m\u001b[38;5;241m=\u001b[39m\u001b[38;5;28mint\u001b[39m,default\u001b[38;5;241m=\u001b[39m\u001b[38;5;241m100\u001b[39m,help\u001b[38;5;241m=\u001b[39m\u001b[38;5;124m'\u001b[39m\u001b[38;5;124mstep_size\u001b[39m\u001b[38;5;124m'\u001b[39m)\n\u001b[1;32m---> 47\u001b[0m args \u001b[38;5;241m=\u001b[39m parser\u001b[38;5;241m.\u001b[39mparse_args()\n\u001b[0;32m     48\u001b[0m device \u001b[38;5;241m=\u001b[39m torch\u001b[38;5;241m.\u001b[39mdevice(args\u001b[38;5;241m.\u001b[39mdevice)\n",
      "File \u001b[1;32m~\\AppData\\Local\\anaconda3\\Lib\\argparse.py:1872\u001b[0m, in \u001b[0;36mArgumentParser.parse_args\u001b[1;34m(self, args, namespace)\u001b[0m\n\u001b[0;32m   1870\u001b[0m \u001b[38;5;28;01mif\u001b[39;00m argv:\n\u001b[0;32m   1871\u001b[0m     msg \u001b[38;5;241m=\u001b[39m _(\u001b[38;5;124m'\u001b[39m\u001b[38;5;124munrecognized arguments: \u001b[39m\u001b[38;5;132;01m%s\u001b[39;00m\u001b[38;5;124m'\u001b[39m)\n\u001b[1;32m-> 1872\u001b[0m     \u001b[38;5;28mself\u001b[39m\u001b[38;5;241m.\u001b[39merror(msg \u001b[38;5;241m%\u001b[39m \u001b[38;5;124m'\u001b[39m\u001b[38;5;124m \u001b[39m\u001b[38;5;124m'\u001b[39m\u001b[38;5;241m.\u001b[39mjoin(argv))\n\u001b[0;32m   1873\u001b[0m \u001b[38;5;28;01mreturn\u001b[39;00m args\n",
      "File \u001b[1;32m~\\AppData\\Local\\anaconda3\\Lib\\argparse.py:2630\u001b[0m, in \u001b[0;36mArgumentParser.error\u001b[1;34m(self, message)\u001b[0m\n\u001b[0;32m   2628\u001b[0m \u001b[38;5;28mself\u001b[39m\u001b[38;5;241m.\u001b[39mprint_usage(_sys\u001b[38;5;241m.\u001b[39mstderr)\n\u001b[0;32m   2629\u001b[0m args \u001b[38;5;241m=\u001b[39m {\u001b[38;5;124m'\u001b[39m\u001b[38;5;124mprog\u001b[39m\u001b[38;5;124m'\u001b[39m: \u001b[38;5;28mself\u001b[39m\u001b[38;5;241m.\u001b[39mprog, \u001b[38;5;124m'\u001b[39m\u001b[38;5;124mmessage\u001b[39m\u001b[38;5;124m'\u001b[39m: message}\n\u001b[1;32m-> 2630\u001b[0m \u001b[38;5;28mself\u001b[39m\u001b[38;5;241m.\u001b[39mexit(\u001b[38;5;241m2\u001b[39m, _(\u001b[38;5;124m'\u001b[39m\u001b[38;5;132;01m%(prog)s\u001b[39;00m\u001b[38;5;124m: error: \u001b[39m\u001b[38;5;132;01m%(message)s\u001b[39;00m\u001b[38;5;130;01m\\n\u001b[39;00m\u001b[38;5;124m'\u001b[39m) \u001b[38;5;241m%\u001b[39m args)\n",
      "File \u001b[1;32m~\\AppData\\Local\\anaconda3\\Lib\\argparse.py:2617\u001b[0m, in \u001b[0;36mArgumentParser.exit\u001b[1;34m(self, status, message)\u001b[0m\n\u001b[0;32m   2615\u001b[0m \u001b[38;5;28;01mif\u001b[39;00m message:\n\u001b[0;32m   2616\u001b[0m     \u001b[38;5;28mself\u001b[39m\u001b[38;5;241m.\u001b[39m_print_message(message, _sys\u001b[38;5;241m.\u001b[39mstderr)\n\u001b[1;32m-> 2617\u001b[0m _sys\u001b[38;5;241m.\u001b[39mexit(status)\n",
      "\u001b[1;31mSystemExit\u001b[0m: 2"
     ]
    }
   ],
   "source": [
    "train(Data, Data.train[0], Data.train[1], model, criterion, optim, args.batch_size)"
   ]
  }
 ],
 "metadata": {
  "kernelspec": {
   "display_name": "Python 3 (ipykernel)",
   "language": "python",
   "name": "python3"
  },
  "language_info": {
   "codemirror_mode": {
    "name": "ipython",
    "version": 3
   },
   "file_extension": ".py",
   "mimetype": "text/x-python",
   "name": "python",
   "nbconvert_exporter": "python",
   "pygments_lexer": "ipython3",
   "version": "3.11.7"
  }
 },
 "nbformat": 4,
 "nbformat_minor": 5
}
