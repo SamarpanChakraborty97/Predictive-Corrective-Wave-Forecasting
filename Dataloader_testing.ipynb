{
 "cells": [
  {
   "cell_type": "code",
   "execution_count": 1,
   "id": "28e2bc95-a3ba-4571-89aa-3b4b52bd6333",
   "metadata": {},
   "outputs": [],
   "source": [
    "import pickle\n",
    "import numpy as np\n",
    "import os\n",
    "import scipy.sparse as sp\n",
    "import torch\n",
    "from scipy.sparse import linalg\n",
    "from torch.autograd import Variable\n",
    "import os"
   ]
  },
  {
   "cell_type": "code",
   "execution_count": 2,
   "id": "88ffea8d-6350-4a80-845b-2d7f1dbf15bd",
   "metadata": {},
   "outputs": [],
   "source": [
    "file_name = os.getcwd() + \"/solar_AL.txt\"\n",
    "fh = open(file_name,'r')"
   ]
  },
  {
   "cell_type": "code",
   "execution_count": 3,
   "id": "5d3bf550-281c-402e-a396-0956c8e293c5",
   "metadata": {},
   "outputs": [],
   "source": [
    "raw_data = np.loadtxt(fh, delimiter=\",\")"
   ]
  },
  {
   "cell_type": "code",
   "execution_count": 4,
   "id": "1b2e697c-ef14-40a5-a20f-baa3faf40283",
   "metadata": {},
   "outputs": [
    {
     "data": {
      "text/plain": [
       "137"
      ]
     },
     "execution_count": 4,
     "metadata": {},
     "output_type": "execute_result"
    }
   ],
   "source": [
    "raw_data.shape[1]"
   ]
  },
  {
   "cell_type": "code",
   "execution_count": 5,
   "id": "a8746b27-a246-4422-8c4c-8a5a0a52f77e",
   "metadata": {},
   "outputs": [
    {
     "ename": "NameError",
     "evalue": "name 'm' is not defined",
     "output_type": "error",
     "traceback": [
      "\u001b[1;31m---------------------------------------------------------------------------\u001b[0m",
      "\u001b[1;31mNameError\u001b[0m                                 Traceback (most recent call last)",
      "Cell \u001b[1;32mIn[5], line 1\u001b[0m\n\u001b[1;32m----> 1\u001b[0m scaled_cols \u001b[38;5;241m=\u001b[39m np\u001b[38;5;241m.\u001b[39mones(m)\n",
      "\u001b[1;31mNameError\u001b[0m: name 'm' is not defined"
     ]
    }
   ],
   "source": [
    "scaled_cols = np.ones(m)"
   ]
  },
  {
   "cell_type": "code",
   "execution_count": 64,
   "id": "adf78c51-a4a9-4c0a-974e-ee9c872f09e2",
   "metadata": {},
   "outputs": [
    {
     "data": {
      "text/plain": [
       "array([1., 1., 1., 1., 1., 1., 1., 1., 1., 1., 1., 1., 1., 1., 1., 1., 1.,\n",
       "       1., 1., 1., 1., 1., 1., 1., 1., 1., 1., 1., 1., 1., 1., 1., 1., 1.,\n",
       "       1., 1., 1., 1., 1., 1., 1., 1., 1., 1., 1., 1., 1., 1., 1., 1., 1.,\n",
       "       1., 1., 1., 1., 1., 1., 1., 1., 1., 1., 1., 1., 1., 1., 1., 1., 1.,\n",
       "       1., 1., 1., 1., 1., 1., 1., 1., 1., 1., 1., 1., 1., 1., 1., 1., 1.,\n",
       "       1., 1., 1., 1., 1., 1., 1., 1., 1., 1., 1., 1., 1., 1., 1., 1., 1.,\n",
       "       1., 1., 1., 1., 1., 1., 1., 1., 1., 1., 1., 1., 1., 1., 1., 1., 1.,\n",
       "       1., 1., 1., 1., 1., 1., 1., 1., 1., 1., 1., 1., 1., 1., 1., 1., 1.,\n",
       "       1.])"
      ]
     },
     "execution_count": 64,
     "metadata": {},
     "output_type": "execute_result"
    }
   ],
   "source": [
    "scaled_cols"
   ]
  },
  {
   "cell_type": "code",
   "execution_count": 80,
   "id": "4f4f4307-68b6-4832-a6a5-08df5e4fa7ed",
   "metadata": {},
   "outputs": [],
   "source": [
    "normalized_data = np.zeros(raw_data.shape)\n",
    "for i in range(m):\n",
    "    scaled_cols[i] = np.max(np.abs(raw_data[:,i]))\n",
    "    normalized_data[:,i] = raw_data[:,i] / np.max(np.abs(raw_data[:,i]))"
   ]
  },
  {
   "cell_type": "code",
   "execution_count": 81,
   "id": "88d67b75-a6cb-42bb-9934-d6a53a8d591c",
   "metadata": {},
   "outputs": [
    {
     "data": {
      "text/plain": [
       "array([58.85, 33.35, 33.35, 33.15, 48.5 , 88.9 , 28.95, 29.3 , 33.4 ,\n",
       "       33.  , 30.35, 16.95, 32.7 , 33.1 , 36.1 , 16.4 , 34.85, 31.85,\n",
       "       32.9 , 32.5 , 34.45, 35.3 , 33.55, 71.  , 32.5 , 28.2 , 31.5 ,\n",
       "       31.5 , 73.  , 33.15, 26.8 , 59.75, 33.2 , 30.3 , 30.8 , 26.35,\n",
       "       32.65, 23.75, 32.55, 32.95, 80.65, 32.6 , 33.85, 31.35, 41.75,\n",
       "       24.65, 24.35, 30.75, 31.85, 32.9 , 34.85, 32.75, 32.75, 33.25,\n",
       "       29.15, 32.5 , 34.75, 29.4 , 30.1 , 33.7 , 24.1 , 32.6 , 31.15,\n",
       "       30.45, 30.35, 32.15, 32.65, 32.4 , 59.55, 62.4 , 46.15, 22.75,\n",
       "       31.  , 81.3 , 32.3 , 31.9 , 35.95, 30.25, 34.85, 30.4 , 44.05,\n",
       "       31.6 , 28.55, 23.05, 31.7 , 29.35, 32.6 , 30.15, 28.45, 29.15,\n",
       "       21.9 , 29.5 , 34.45, 30.5 , 29.  , 30.6 , 24.6 , 28.8 , 27.85,\n",
       "       31.9 , 24.35, 23.8 , 31.95, 31.7 , 54.35, 50.85, 31.55, 33.4 ,\n",
       "       29.35, 32.65, 32.45, 32.9 , 17.6 , 28.3 , 30.9 ,  8.8 , 33.5 ,\n",
       "       31.45, 33.15, 24.05, 34.5 , 68.7 , 32.55, 34.3 , 53.95, 44.05,\n",
       "       18.75, 31.35, 34.4 ,  8.85, 26.75, 30.7 , 31.95, 31.85, 33.  ,\n",
       "       24.55, 42.95])"
      ]
     },
     "execution_count": 81,
     "metadata": {},
     "output_type": "execute_result"
    }
   ],
   "source": [
    "scaled_cols"
   ]
  },
  {
   "cell_type": "code",
   "execution_count": 41,
   "id": "3c5d38f0-4f66-4ed7-8bab-8dee42dd76c6",
   "metadata": {},
   "outputs": [
    {
     "data": {
      "text/plain": [
       "array([48.05, 27.75, 27.9 , 26.95, 37.9 , 77.75, 22.7 , 26.3 , 28.25,\n",
       "       28.05, 26.05, 15.7 , 27.75, 27.15, 32.9 , 12.15, 27.  , 29.5 ,\n",
       "       28.2 , 27.7 , 30.7 , 28.7 , 24.25, 64.65, 25.25, 24.65, 27.35,\n",
       "       27.25, 58.7 , 26.15, 19.2 , 59.75, 28.85, 24.95, 24.3 , 23.7 ,\n",
       "       29.1 , 21.4 , 28.  , 26.55, 71.45, 27.8 , 28.4 , 23.5 , 34.75,\n",
       "       19.65, 20.95, 24.3 , 28.05, 29.15, 28.2 , 28.6 , 25.7 , 27.15,\n",
       "       25.5 , 28.05, 26.65, 23.65, 25.2 , 28.5 , 20.25, 28.1 , 26.85,\n",
       "       24.65, 24.2 , 32.05, 27.75, 30.15, 43.  , 51.85, 39.75, 19.95,\n",
       "       22.4 , 66.2 , 26.9 , 27.65, 31.95, 25.35, 28.75, 26.55, 37.8 ,\n",
       "       28.1 , 23.35, 20.  , 28.  , 27.75, 25.55, 25.5 , 23.05, 24.95,\n",
       "       18.35, 24.35, 29.45, 24.7 , 26.4 , 24.75, 18.85, 25.55, 18.65,\n",
       "       29.35, 20.3 , 20.3 , 26.75, 27.05, 42.25, 43.6 , 26.65, 27.3 ,\n",
       "       25.2 , 28.7 , 26.7 , 27.1 , 16.8 , 25.95, 28.55,  6.8 , 27.05,\n",
       "       26.85, 28.1 , 20.05, 28.15, 50.4 , 27.3 , 29.05, 44.8 , 38.85,\n",
       "       15.3 , 25.3 , 27.3 ,  7.6 , 22.1 , 28.3 , 27.7 , 29.55, 28.  ,\n",
       "       20.4 , 38.7 ])"
      ]
     },
     "execution_count": 41,
     "metadata": {},
     "output_type": "execute_result"
    }
   ],
   "source": [
    "raw_data[9000,:]"
   ]
  },
  {
   "cell_type": "code",
   "execution_count": 42,
   "id": "f0bcf3eb-059b-4be3-a4ea-10a2afa6074b",
   "metadata": {},
   "outputs": [
    {
     "data": {
      "text/plain": [
       "array([0.81648258, 0.83208396, 0.83658171, 0.81297134, 0.7814433 ,\n",
       "       0.87457818, 0.78411054, 0.89761092, 0.84580838, 0.85      ,\n",
       "       0.8583196 , 0.92625369, 0.84862385, 0.82024169, 0.91135734,\n",
       "       0.74085366, 0.77474892, 0.92621664, 0.85714286, 0.85230769,\n",
       "       0.89114659, 0.81303116, 0.72280179, 0.91056338, 0.77692308,\n",
       "       0.87411348, 0.86825397, 0.86507937, 0.80410959, 0.78883861,\n",
       "       0.71641791, 1.        , 0.8689759 , 0.82343234, 0.78896104,\n",
       "       0.89943074, 0.89127106, 0.90105263, 0.86021505, 0.80576631,\n",
       "       0.88592684, 0.85276074, 0.83899557, 0.74960128, 0.83233533,\n",
       "       0.79716024, 0.86036961, 0.7902439 , 0.88069074, 0.88601824,\n",
       "       0.80918221, 0.87328244, 0.78473282, 0.81654135, 0.87478559,\n",
       "       0.86307692, 0.76690647, 0.80442177, 0.8372093 , 0.84569733,\n",
       "       0.84024896, 0.86196319, 0.86195827, 0.80952381, 0.79736409,\n",
       "       0.99688958, 0.84992343, 0.93055556, 0.72208228, 0.83092949,\n",
       "       0.86132178, 0.87692308, 0.72258065, 0.81426814, 0.83281734,\n",
       "       0.86677116, 0.88873435, 0.83801653, 0.82496413, 0.87335526,\n",
       "       0.85811578, 0.88924051, 0.8178634 , 0.86767896, 0.88328076,\n",
       "       0.94548552, 0.78374233, 0.84577114, 0.81019332, 0.85591767,\n",
       "       0.83789954, 0.82542373, 0.85486212, 0.80983607, 0.91034483,\n",
       "       0.80882353, 0.76626016, 0.88715278, 0.66965889, 0.9200627 ,\n",
       "       0.83367556, 0.85294118, 0.8372457 , 0.8533123 , 0.77736891,\n",
       "       0.8574238 , 0.84469097, 0.81736527, 0.85860307, 0.87901991,\n",
       "       0.82280431, 0.82370821, 0.95454545, 0.91696113, 0.92394822,\n",
       "       0.77272727, 0.80746269, 0.85373609, 0.84766214, 0.83367983,\n",
       "       0.81594203, 0.73362445, 0.83870968, 0.84693878, 0.83039852,\n",
       "       0.88195233, 0.816     , 0.80701754, 0.79360465, 0.85875706,\n",
       "       0.82616822, 0.9218241 , 0.86697966, 0.9277865 , 0.84848485,\n",
       "       0.83095723, 0.90104773])"
      ]
     },
     "execution_count": 42,
     "metadata": {},
     "output_type": "execute_result"
    }
   ],
   "source": [
    "normalized_data[9000,:]"
   ]
  },
  {
   "cell_type": "code",
   "execution_count": 65,
   "id": "2de8a8a9-437c-47ad-89a5-2b557a6e618d",
   "metadata": {},
   "outputs": [],
   "source": [
    "window = 24*7\n",
    "horizon = 3\n",
    "vars = m\n",
    "\n",
    "train_ratio = 0.6\n",
    "val_ratio = 0.2\n",
    "\n",
    "train_set = range(window+horizon-1, int(train_ratio*n))\n",
    "val_set = range(int(train_ratio*n), int((train_ratio+val_ratio)*n))\n",
    "test_set = range(int((train_ratio+val_ratio)*n),n)"
   ]
  },
  {
   "cell_type": "code",
   "execution_count": 46,
   "id": "3e80862b-9dd6-45a9-a342-3803cdf59810",
   "metadata": {},
   "outputs": [
    {
     "name": "stdout",
     "output_type": "stream",
     "text": [
      "range(170, 31536)\n"
     ]
    }
   ],
   "source": [
    "print(train_set)"
   ]
  },
  {
   "cell_type": "code",
   "execution_count": 49,
   "id": "137c45a2-d923-4c38-96db-5412f95002b5",
   "metadata": {},
   "outputs": [
    {
     "data": {
      "text/plain": [
       "170"
      ]
     },
     "execution_count": 49,
     "metadata": {},
     "output_type": "execute_result"
    }
   ],
   "source": [
    "train_set[0]"
   ]
  },
  {
   "cell_type": "code",
   "execution_count": 68,
   "id": "4692d73c-1f84-4e38-8572-49e09a8f6945",
   "metadata": {},
   "outputs": [
    {
     "name": "stdout",
     "output_type": "stream",
     "text": [
      "End index:168\n",
      "Start index:0\n",
      "\n",
      "End index:31533\n",
      "Start index:31365\n",
      "\n"
     ]
    }
   ],
   "source": [
    "train_samples = len(train_set)\n",
    "X_train = torch.zeros((train_samples, window, vars))\n",
    "Y_train = torch.zeros((train_samples, vars))\n",
    "\n",
    "for i in range(train_samples):\n",
    "    end = train_set[i] - horizon + 1\n",
    "    start = end - window\n",
    "    if i==0 or i==train_samples-1:\n",
    "        print(f\"End index:{end}\")\n",
    "        print(f\"Start index:{start}\\n\")\n",
    "    X_train[i,:,:] = torch.from_numpy(normalized_data[start:end,:])\n",
    "    Y_train[i,:] = torch.from_numpy(normalized_data[train_set[i],:])"
   ]
  },
  {
   "cell_type": "code",
   "execution_count": 88,
   "id": "0e1e7151-dda4-4f2f-9f11-6f521a3d8aa7",
   "metadata": {},
   "outputs": [
    {
     "data": {
      "text/plain": [
       "torch.Size([31366, 168, 137])"
      ]
     },
     "execution_count": 88,
     "metadata": {},
     "output_type": "execute_result"
    }
   ],
   "source": [
    "X_train.shape"
   ]
  },
  {
   "cell_type": "code",
   "execution_count": 69,
   "id": "1f72086a-252c-40e1-b73b-fa76b27ac82f",
   "metadata": {},
   "outputs": [
    {
     "name": "stdout",
     "output_type": "stream",
     "text": [
      "End index:31534\n",
      "Start index:31366\n",
      "\n",
      "End index:42045\n",
      "Start index:41877\n",
      "\n"
     ]
    }
   ],
   "source": [
    "val_samples = len(val_set)\n",
    "X_val = torch.zeros((val_samples, window, vars))\n",
    "Y_val = torch.zeros((val_samples, vars))\n",
    "\n",
    "for i in range(val_samples):\n",
    "    end = val_set[i] - horizon + 1\n",
    "    start = end - window\n",
    "    if i==0 or i==val_samples-1:\n",
    "        print(f\"End index:{end}\")\n",
    "        print(f\"Start index:{start}\\n\")\n",
    "    X_val[i,:,:] = torch.from_numpy(normalized_data[start:end,:])\n",
    "    Y_val[i,:] = torch.from_numpy(normalized_data[val_set[i],:])"
   ]
  },
  {
   "cell_type": "code",
   "execution_count": 70,
   "id": "fd2f7d23-bdcd-4575-80d2-376a2cef2b61",
   "metadata": {},
   "outputs": [
    {
     "name": "stdout",
     "output_type": "stream",
     "text": [
      "End index:42046\n",
      "Start index:41878\n",
      "\n",
      "End index:52557\n",
      "Start index:52389\n",
      "\n"
     ]
    }
   ],
   "source": [
    "test_samples = len(test_set)\n",
    "X_test = torch.zeros((test_samples, window, vars))\n",
    "Y_test = torch.zeros((test_samples, vars))\n",
    "\n",
    "for i in range(test_samples):\n",
    "    end = test_set[i] - horizon + 1\n",
    "    start = end - window\n",
    "    if i==0 or i==test_samples-1:\n",
    "        print(f\"End index:{end}\")\n",
    "        print(f\"Start index:{start}\\n\")\n",
    "    X_test[i,:,:] = torch.from_numpy(normalized_data[start:end,:])\n",
    "    Y_test[i,:] = torch.from_numpy(normalized_data[test_set[i],:])"
   ]
  },
  {
   "cell_type": "code",
   "execution_count": 72,
   "id": "18c718c1-6c78-45de-906c-4f81ea9d7b6e",
   "metadata": {},
   "outputs": [
    {
     "data": {
      "text/plain": [
       "10512"
      ]
     },
     "execution_count": 72,
     "metadata": {},
     "output_type": "execute_result"
    }
   ],
   "source": [
    "Y_test.size(0)"
   ]
  },
  {
   "cell_type": "code",
   "execution_count": 82,
   "id": "590bb310-bd49-48c1-9604-f3594221e0c7",
   "metadata": {},
   "outputs": [],
   "source": [
    "scaled_cols = torch.from_numpy(scaled_cols).float()\n",
    "tmp = Y_test * scaled_cols.expand(Y_test.size(0), m)"
   ]
  },
  {
   "cell_type": "code",
   "execution_count": 94,
   "id": "c4d74049-c31f-49e6-8247-80ab89a2c56d",
   "metadata": {},
   "outputs": [
    {
     "data": {
      "text/plain": [
       "tensor([[0., 0., 0.,  ..., 0., 0., 0.],\n",
       "        [0., 0., 0.,  ..., 0., 0., 0.],\n",
       "        [0., 0., 0.,  ..., 0., 0., 0.],\n",
       "        ...,\n",
       "        [0., 0., 0.,  ..., 0., 0., 0.],\n",
       "        [0., 0., 0.,  ..., 0., 0., 0.],\n",
       "        [0., 0., 0.,  ..., 0., 0., 0.]])"
      ]
     },
     "execution_count": 94,
     "metadata": {},
     "output_type": "execute_result"
    }
   ],
   "source": [
    "tmp"
   ]
  },
  {
   "cell_type": "code",
   "execution_count": 85,
   "id": "a8a4e179-60e6-4797-9323-1b5ae3733c00",
   "metadata": {},
   "outputs": [
    {
     "name": "stdout",
     "output_type": "stream",
     "text": [
      "tensor(8.9212)\n",
      "tensor(6.5985)\n"
     ]
    }
   ],
   "source": [
    "rse = tmp.std() * np.sqrt((len(tmp) - 1.) / len(tmp))\n",
    "rae = torch.mean(torch.abs(tmp - torch.mean(tmp)))\n",
    "\n",
    "print(rse)\n",
    "\n",
    "print(rae)"
   ]
  },
  {
   "cell_type": "code",
   "execution_count": 89,
   "id": "67986b4d-1169-4625-84bb-5221c0460d27",
   "metadata": {},
   "outputs": [
    {
     "data": {
      "text/plain": [
       "torch.Size([31366, 168, 137])"
      ]
     },
     "execution_count": 89,
     "metadata": {},
     "output_type": "execute_result"
    }
   ],
   "source": [
    "X_train.shape"
   ]
  },
  {
   "cell_type": "code",
   "execution_count": 90,
   "id": "1dbf31e2-79cc-479e-8771-865ccb594db2",
   "metadata": {},
   "outputs": [],
   "source": [
    "X_unsqueezed = torch.unsqueeze(X_train, dim=1)"
   ]
  },
  {
   "cell_type": "code",
   "execution_count": 93,
   "id": "d5f038d3-2437-476b-b9af-87c1434d30ab",
   "metadata": {},
   "outputs": [
    {
     "data": {
      "text/plain": [
       "torch.Size([31366, 1, 137, 168])"
      ]
     },
     "execution_count": 93,
     "metadata": {},
     "output_type": "execute_result"
    }
   ],
   "source": [
    "X_unsqueezed = X_unsqueezed.transpose(2,3)\n",
    "X_unsqueezed.shape"
   ]
  },
  {
   "cell_type": "code",
   "execution_count": 96,
   "id": "81b8cbfd-dd7f-4913-b036-76b0cbed8580",
   "metadata": {},
   "outputs": [
    {
     "name": "stdout",
     "output_type": "stream",
     "text": [
      "Original tensor:\n",
      "tensor([[1., 2.],\n",
      "        [3., 4.]])\n",
      "Padded tensor:\n",
      "tensor([[0., 0., 0., 0.],\n",
      "        [0., 0., 0., 0.],\n",
      "        [0., 1., 2., 0.],\n",
      "        [0., 3., 4., 0.],\n",
      "        [0., 0., 0., 0.],\n",
      "        [0., 0., 0., 0.]])\n"
     ]
    }
   ],
   "source": [
    "import torch\n",
    "import torch.nn.functional as F\n",
    "\n",
    "# Create an example tensor\n",
    "tensor = torch.tensor([[1, 2], [3, 4]], dtype=torch.float32)\n",
    "\n",
    "# Define the padding\n",
    "# (pad_left, pad_right, pad_top, pad_bottom)\n",
    "padding = (1, 1, 2, 2)\n",
    "\n",
    "# Apply padding\n",
    "padded_tensor = F.pad(tensor, padding, mode='constant', value=0)\n",
    "\n",
    "print(\"Original tensor:\")\n",
    "print(tensor)\n",
    "\n",
    "print(\"Padded tensor:\")\n",
    "print(padded_tensor)\n",
    "\n"
   ]
  },
  {
   "cell_type": "code",
   "execution_count": 86,
   "id": "2a56046e-6705-4462-b3bd-b937417add61",
   "metadata": {},
   "outputs": [],
   "source": [
    "# import pandas as pd\n",
    "# raw_data_pd = pd.read_csv(\"C:/Users/schakr18/Downloads/solar_AL.csv\", header=None)\n",
    "# raw_data_pd.head()"
   ]
  }
 ],
 "metadata": {
  "kernelspec": {
   "display_name": "Python 3 (ipykernel)",
   "language": "python",
   "name": "python3"
  },
  "language_info": {
   "codemirror_mode": {
    "name": "ipython",
    "version": 3
   },
   "file_extension": ".py",
   "mimetype": "text/x-python",
   "name": "python",
   "nbconvert_exporter": "python",
   "pygments_lexer": "ipython3",
   "version": "3.11.7"
  }
 },
 "nbformat": 4,
 "nbformat_minor": 5
}
