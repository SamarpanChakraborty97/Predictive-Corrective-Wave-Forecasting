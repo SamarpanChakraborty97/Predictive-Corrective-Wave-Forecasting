{
 "cells": [
  {
   "cell_type": "code",
   "execution_count": 2,
   "id": "9a7da13e-2fb7-4a0b-b589-78196efae0be",
   "metadata": {},
   "outputs": [
    {
     "name": "stdout",
     "output_type": "stream",
     "text": [
      "Foo: 123\n",
      "Bar: hello\n"
     ]
    }
   ],
   "source": [
    "import argparse\n",
    "import sys\n",
    "\n",
    "# Step 1: Create the Argument Parser\n",
    "parser = argparse.ArgumentParser(description=\"Example argparse in Jupyter Notebook\")\n",
    "\n",
    "# Define arguments\n",
    "parser.add_argument('--foo', type=int, help='Foo argument')\n",
    "parser.add_argument('--bar', type=str, help='Bar argument')\n",
    "\n",
    "# Step 2: Simulate command-line arguments\n",
    "sys.argv = ['argparse_in_notebook', '--foo', '123', '--bar', 'hello']\n",
    "\n",
    "# Step 3: Parse the arguments\n",
    "args = parser.parse_args()\n",
    "\n",
    "# Access the arguments\n",
    "print(f'Foo: {args.foo}')\n",
    "print(f'Bar: {args.bar}')"
   ]
  }
 ],
 "metadata": {
  "kernelspec": {
   "display_name": "Python 3 (ipykernel)",
   "language": "python",
   "name": "python3"
  },
  "language_info": {
   "codemirror_mode": {
    "name": "ipython",
    "version": 3
   },
   "file_extension": ".py",
   "mimetype": "text/x-python",
   "name": "python",
   "nbconvert_exporter": "python",
   "pygments_lexer": "ipython3",
   "version": "3.11.7"
  }
 },
 "nbformat": 4,
 "nbformat_minor": 5
}
